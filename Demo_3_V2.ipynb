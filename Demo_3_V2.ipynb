{
 "cells": [
  {
   "cell_type": "code",
   "execution_count": 16,
   "metadata": {},
   "outputs": [
    {
     "name": "stdout",
     "output_type": "stream",
     "text": [
      "Requirement already satisfied: networkx in c:\\users\\x_ari\\appdata\\local\\programs\\python\\python311\\lib\\site-packages (3.1)\n",
      "Requirement already satisfied: matplotlib in c:\\users\\x_ari\\appdata\\local\\programs\\python\\python311\\lib\\site-packages (3.7.2)\n",
      "Requirement already satisfied: contourpy>=1.0.1 in c:\\users\\x_ari\\appdata\\local\\programs\\python\\python311\\lib\\site-packages (from matplotlib) (1.1.0)\n",
      "Requirement already satisfied: cycler>=0.10 in c:\\users\\x_ari\\appdata\\local\\programs\\python\\python311\\lib\\site-packages (from matplotlib) (0.11.0)\n",
      "Requirement already satisfied: fonttools>=4.22.0 in c:\\users\\x_ari\\appdata\\local\\programs\\python\\python311\\lib\\site-packages (from matplotlib) (4.42.1)\n",
      "Requirement already satisfied: kiwisolver>=1.0.1 in c:\\users\\x_ari\\appdata\\local\\programs\\python\\python311\\lib\\site-packages (from matplotlib) (1.4.5)\n",
      "Requirement already satisfied: numpy>=1.20 in c:\\users\\x_ari\\appdata\\local\\programs\\python\\python311\\lib\\site-packages (from matplotlib) (1.26.2)\n",
      "Requirement already satisfied: packaging>=20.0 in c:\\users\\x_ari\\appdata\\roaming\\python\\python311\\site-packages (from matplotlib) (23.1)\n",
      "Requirement already satisfied: pillow>=6.2.0 in c:\\users\\x_ari\\appdata\\local\\programs\\python\\python311\\lib\\site-packages (from matplotlib) (10.0.0)\n",
      "Requirement already satisfied: pyparsing<3.1,>=2.3.1 in c:\\users\\x_ari\\appdata\\local\\programs\\python\\python311\\lib\\site-packages (from matplotlib) (3.0.9)\n",
      "Requirement already satisfied: python-dateutil>=2.7 in c:\\users\\x_ari\\appdata\\roaming\\python\\python311\\site-packages (from matplotlib) (2.8.2)\n",
      "Requirement already satisfied: six>=1.5 in c:\\users\\x_ari\\appdata\\roaming\\python\\python311\\site-packages (from python-dateutil>=2.7->matplotlib) (1.16.0)\n",
      "Note: you may need to restart the kernel to use updated packages.\n"
     ]
    }
   ],
   "source": [
    "pip install networkx matplotlib"
   ]
  },
  {
   "cell_type": "code",
   "execution_count": 17,
   "metadata": {},
   "outputs": [
    {
     "name": "stdout",
     "output_type": "stream",
     "text": [
      "Requirement already satisfied: spacy in c:\\users\\x_ari\\appdata\\local\\programs\\python\\python311\\lib\\site-packages (3.6.1)\n",
      "Requirement already satisfied: spacy-legacy<3.1.0,>=3.0.11 in c:\\users\\x_ari\\appdata\\local\\programs\\python\\python311\\lib\\site-packages (from spacy) (3.0.12)\n",
      "Requirement already satisfied: spacy-loggers<2.0.0,>=1.0.0 in c:\\users\\x_ari\\appdata\\local\\programs\\python\\python311\\lib\\site-packages (from spacy) (1.0.5)\n",
      "Requirement already satisfied: murmurhash<1.1.0,>=0.28.0 in c:\\users\\x_ari\\appdata\\local\\programs\\python\\python311\\lib\\site-packages (from spacy) (1.0.10)\n",
      "Requirement already satisfied: cymem<2.1.0,>=2.0.2 in c:\\users\\x_ari\\appdata\\local\\programs\\python\\python311\\lib\\site-packages (from spacy) (2.0.8)\n",
      "Requirement already satisfied: preshed<3.1.0,>=3.0.2 in c:\\users\\x_ari\\appdata\\local\\programs\\python\\python311\\lib\\site-packages (from spacy) (3.0.9)\n",
      "Requirement already satisfied: thinc<8.2.0,>=8.1.8 in c:\\users\\x_ari\\appdata\\local\\programs\\python\\python311\\lib\\site-packages (from spacy) (8.1.12)\n",
      "Requirement already satisfied: wasabi<1.2.0,>=0.9.1 in c:\\users\\x_ari\\appdata\\local\\programs\\python\\python311\\lib\\site-packages (from spacy) (1.1.2)\n",
      "Requirement already satisfied: srsly<3.0.0,>=2.4.3 in c:\\users\\x_ari\\appdata\\local\\programs\\python\\python311\\lib\\site-packages (from spacy) (2.4.7)\n",
      "Requirement already satisfied: catalogue<2.1.0,>=2.0.6 in c:\\users\\x_ari\\appdata\\local\\programs\\python\\python311\\lib\\site-packages (from spacy) (2.0.9)\n",
      "Requirement already satisfied: typer<0.10.0,>=0.3.0 in c:\\users\\x_ari\\appdata\\local\\programs\\python\\python311\\lib\\site-packages (from spacy) (0.9.0)\n",
      "Requirement already satisfied: pathy>=0.10.0 in c:\\users\\x_ari\\appdata\\local\\programs\\python\\python311\\lib\\site-packages (from spacy) (0.10.2)\n",
      "Requirement already satisfied: smart-open<7.0.0,>=5.2.1 in c:\\users\\x_ari\\appdata\\local\\programs\\python\\python311\\lib\\site-packages (from spacy) (6.4.0)\n",
      "Requirement already satisfied: tqdm<5.0.0,>=4.38.0 in c:\\users\\x_ari\\appdata\\local\\programs\\python\\python311\\lib\\site-packages (from spacy) (4.66.1)\n",
      "Requirement already satisfied: numpy>=1.15.0 in c:\\users\\x_ari\\appdata\\local\\programs\\python\\python311\\lib\\site-packages (from spacy) (1.26.2)\n",
      "Requirement already satisfied: requests<3.0.0,>=2.13.0 in c:\\users\\x_ari\\appdata\\local\\programs\\python\\python311\\lib\\site-packages (from spacy) (2.31.0)\n",
      "Requirement already satisfied: pydantic!=1.8,!=1.8.1,<3.0.0,>=1.7.4 in c:\\users\\x_ari\\appdata\\local\\programs\\python\\python311\\lib\\site-packages (from spacy) (2.3.0)\n",
      "Requirement already satisfied: jinja2 in c:\\users\\x_ari\\appdata\\local\\programs\\python\\python311\\lib\\site-packages (from spacy) (3.1.2)\n",
      "Requirement already satisfied: setuptools in c:\\users\\x_ari\\appdata\\local\\programs\\python\\python311\\lib\\site-packages (from spacy) (65.5.0)\n",
      "Requirement already satisfied: packaging>=20.0 in c:\\users\\x_ari\\appdata\\roaming\\python\\python311\\site-packages (from spacy) (23.1)\n",
      "Requirement already satisfied: langcodes<4.0.0,>=3.2.0 in c:\\users\\x_ari\\appdata\\local\\programs\\python\\python311\\lib\\site-packages (from spacy) (3.3.0)\n",
      "Requirement already satisfied: annotated-types>=0.4.0 in c:\\users\\x_ari\\appdata\\local\\programs\\python\\python311\\lib\\site-packages (from pydantic!=1.8,!=1.8.1,<3.0.0,>=1.7.4->spacy) (0.5.0)\n",
      "Requirement already satisfied: pydantic-core==2.6.3 in c:\\users\\x_ari\\appdata\\local\\programs\\python\\python311\\lib\\site-packages (from pydantic!=1.8,!=1.8.1,<3.0.0,>=1.7.4->spacy) (2.6.3)\n",
      "Requirement already satisfied: typing-extensions>=4.6.1 in c:\\users\\x_ari\\appdata\\local\\programs\\python\\python311\\lib\\site-packages (from pydantic!=1.8,!=1.8.1,<3.0.0,>=1.7.4->spacy) (4.7.1)\n",
      "Requirement already satisfied: charset-normalizer<4,>=2 in c:\\users\\x_ari\\appdata\\local\\programs\\python\\python311\\lib\\site-packages (from requests<3.0.0,>=2.13.0->spacy) (3.2.0)\n",
      "Requirement already satisfied: idna<4,>=2.5 in c:\\users\\x_ari\\appdata\\local\\programs\\python\\python311\\lib\\site-packages (from requests<3.0.0,>=2.13.0->spacy) (3.4)\n",
      "Requirement already satisfied: urllib3<3,>=1.21.1 in c:\\users\\x_ari\\appdata\\local\\programs\\python\\python311\\lib\\site-packages (from requests<3.0.0,>=2.13.0->spacy) (2.0.4)\n",
      "Requirement already satisfied: certifi>=2017.4.17 in c:\\users\\x_ari\\appdata\\local\\programs\\python\\python311\\lib\\site-packages (from requests<3.0.0,>=2.13.0->spacy) (2023.7.22)\n",
      "Requirement already satisfied: blis<0.8.0,>=0.7.8 in c:\\users\\x_ari\\appdata\\local\\programs\\python\\python311\\lib\\site-packages (from thinc<8.2.0,>=8.1.8->spacy) (0.7.10)\n",
      "Requirement already satisfied: confection<1.0.0,>=0.0.1 in c:\\users\\x_ari\\appdata\\local\\programs\\python\\python311\\lib\\site-packages (from thinc<8.2.0,>=8.1.8->spacy) (0.1.3)\n",
      "Requirement already satisfied: colorama in c:\\users\\x_ari\\appdata\\roaming\\python\\python311\\site-packages (from tqdm<5.0.0,>=4.38.0->spacy) (0.4.6)\n",
      "Requirement already satisfied: click<9.0.0,>=7.1.1 in c:\\users\\x_ari\\appdata\\local\\programs\\python\\python311\\lib\\site-packages (from typer<0.10.0,>=0.3.0->spacy) (8.1.7)\n",
      "Requirement already satisfied: MarkupSafe>=2.0 in c:\\users\\x_ari\\appdata\\local\\programs\\python\\python311\\lib\\site-packages (from jinja2->spacy) (2.1.3)\n",
      "Note: you may need to restart the kernel to use updated packages.\n"
     ]
    }
   ],
   "source": [
    "pip install spacy"
   ]
  },
  {
   "cell_type": "code",
   "execution_count": 18,
   "metadata": {},
   "outputs": [
    {
     "name": "stdout",
     "output_type": "stream",
     "text": [
      "Requirement already satisfied: nltk in c:\\users\\x_ari\\appdata\\local\\programs\\python\\python311\\lib\\site-packages (3.8.1)\n",
      "Requirement already satisfied: click in c:\\users\\x_ari\\appdata\\local\\programs\\python\\python311\\lib\\site-packages (from nltk) (8.1.7)\n",
      "Requirement already satisfied: joblib in c:\\users\\x_ari\\appdata\\local\\programs\\python\\python311\\lib\\site-packages (from nltk) (1.3.2)\n",
      "Requirement already satisfied: regex>=2021.8.3 in c:\\users\\x_ari\\appdata\\local\\programs\\python\\python311\\lib\\site-packages (from nltk) (2023.8.8)\n",
      "Requirement already satisfied: tqdm in c:\\users\\x_ari\\appdata\\local\\programs\\python\\python311\\lib\\site-packages (from nltk) (4.66.1)\n",
      "Requirement already satisfied: colorama in c:\\users\\x_ari\\appdata\\roaming\\python\\python311\\site-packages (from click->nltk) (0.4.6)\n",
      "Note: you may need to restart the kernel to use updated packages.\n"
     ]
    }
   ],
   "source": [
    "pip install nltk"
   ]
  },
  {
   "cell_type": "code",
   "execution_count": 19,
   "metadata": {},
   "outputs": [],
   "source": [
    "from nltk.tokenize import word_tokenize\n",
    "from nltk.corpus import stopwords\n",
    "import networkx as nx\n",
    "import matplotlib.pyplot as plt\n",
    "from difflib import get_close_matches"
   ]
  },
  {
   "cell_type": "code",
   "execution_count": 20,
   "metadata": {},
   "outputs": [
    {
     "data": {
      "image/png": "[encoded data removed]",
      "text/plain": [
       "<Figure size 640x480 with 1 Axes>"
      ]
     },
     "metadata": {},
     "output_type": "display_data"
    }
   ],
   "source": [
    "class Device:\n",
    "    def __init__(self, ip_address, subnet_mask, name, active=True):\n",
    "        self.ip_address = ip_address\n",
    "        self.subnet_mask = subnet_mask\n",
    "        self.name = name\n",
    "        self.active = active\n",
    "\n",
    "    def ping(self, destination_device):\n",
    "        # Verificar si ambos dispositivos están activos antes de intentar hacer ping.\n",
    "        if self.active and destination_device.active:\n",
    "            print(f\"{self.name} is pinging {destination_device.name}\")\n",
    "            network.route_packet(self, destination_device, \"ping\")\n",
    "        elif not self.active:\n",
    "            print(f\"{self.name} está inactivo y no puede enviar ping.\")\n",
    "        elif not destination_device.active:\n",
    "            print(f\"{destination_device.name} está inactivo y no puede recibir ping.\")\n",
    "\n",
    "\n",
    "    def receive_ping(self, source_device):\n",
    "        # Se asume que este método solo se llama si el dispositivo está activo, \n",
    "        # la verificación se realiza en el método ping().\n",
    "        print(f\"{self.name} received a ping from {source_device.name}\")\n",
    "\n",
    "    def toggle_active(self):\n",
    "        self.active = not self.active\n",
    "\n",
    "class Network:\n",
    "    def __init__(self):\n",
    "        self.graph = nx.Graph()\n",
    "\n",
    "    def connect(self, device1, device2):\n",
    "        self.graph.add_edge(device1.name, device2.name)\n",
    "\n",
    "    def display(self):\n",
    "        nx.draw(self.graph, with_labels=True, font_weight='bold', node_size=2000, node_color='skyblue', font_size=10)\n",
    "        plt.show()\n",
    "\n",
    "    def ping(self, source_device, destination_device):\n",
    "        source_device.ping(destination_device)\n",
    "\n",
    "    def route_packet(self, source_device, destination_device, packet_data):\n",
    "        # Verificar si ambos, el dispositivo de origen y destino, están activos.\n",
    "        if source_device.active and destination_device.active:\n",
    "            print(f\"Routing packet from {source_device.name} to {destination_device.name}: {packet_data}\")\n",
    "            destination_device.receive_ping(source_device)\n",
    "        elif not source_device.active:\n",
    "            print(f\"{source_device.name} está inactivo y no puede enviar pings.\")\n",
    "        elif not destination_device.active:\n",
    "            print(f\"{destination_device.name} está inactivo y no puede recibir pings.\")\n",
    "        \n",
    "# Crear dispositivos\n",
    "router = Device(\"192.168.0.1\", \"255.255.255.0\", \"Router\")\n",
    "firewall = Device(\"192.168.0.2\", \"255.255.255.0\", \"Firewall\")\n",
    "switch1 = Device(\"192.168.0.3\", \"255.255.255.0\", \"Switch 1\")\n",
    "switch2 = Device(\"192.168.0.4\", \"255.255.255.0\", \"Switch 2\")\n",
    "pc1 = Device(\"192.168.0.5\", \"255.255.255.0\", \"PC1\")\n",
    "pc2 = Device(\"192.168.0.6\", \"255.255.255.0\", \"PC2\")\n",
    "pc3 = Device(\"192.168.0.7\", \"255.255.255.0\", \"PC3\")\n",
    "pc4 = Device(\"192.168.0.8\", \"255.255.255.0\", \"PC4\")\n",
    "\n",
    "# Crear un diccionario de dispositivos\n",
    "devices = {\n",
    "    \"Router\": router,\n",
    "    \"Firewall\": firewall,\n",
    "    \"Switch 1\": switch1,\n",
    "    \"Switch 2\": switch2,\n",
    "    \"PC1\": pc1,\n",
    "    \"PC2\": pc2,\n",
    "    \"PC3\": pc3,\n",
    "    \"PC4\": pc4\n",
    "}\n",
    "\n",
    "# Crear red y conectar dispositivos\n",
    "network = Network()\n",
    "network.connect(router, firewall)\n",
    "network.connect(firewall, switch1)\n",
    "network.connect(firewall, switch2)\n",
    "network.connect(switch1, pc1)\n",
    "network.connect(switch1, pc2)\n",
    "network.connect(switch2, pc3)\n",
    "network.connect(switch2, pc4)\n",
    "\n",
    "\n",
    "\n",
    "# Mostrar la red\n",
    "network.display()"
   ]
  },
  {
   "cell_type": "code",
   "execution_count": 21,
   "metadata": {},
   "outputs": [
    {
     "name": "stdout",
     "output_type": "stream",
     "text": [
      "Nombres de dispositivos en la red: ['Router', 'Firewall', 'Switch 1', 'Switch 2', 'PC1', 'PC2', 'PC3', 'PC4']\n"
     ]
    }
   ],
   "source": [
    "print(\"Nombres de dispositivos en la red:\", network.graph.nodes)"
   ]
  },
  {
   "cell_type": "code",
   "execution_count": 22,
   "metadata": {},
   "outputs": [
    {
     "name": "stdout",
     "output_type": "stream",
     "text": [
      "PC1 is pinging PC2\n",
      "Routing packet from PC1 to PC2: ping\n",
      "PC2 received a ping from PC1\n"
     ]
    }
   ],
   "source": [
    "pc1.ping(pc2)"
   ]
  },
  {
   "cell_type": "code",
   "execution_count": 23,
   "metadata": {},
   "outputs": [
    {
     "name": "stderr",
     "output_type": "stream",
     "text": [
      "[nltk_data] Downloading package punkt to\n",
      "[nltk_data]     C:\\Users\\x_ari\\AppData\\Roaming\\nltk_data...\n",
      "[nltk_data]   Package punkt is already up-to-date!\n",
      "[nltk_data] Downloading package stopwords to\n",
      "[nltk_data]     C:\\Users\\x_ari\\AppData\\Roaming\\nltk_data...\n",
      "[nltk_data]   Package stopwords is already up-to-date!\n"
     ]
    },
    {
     "data": {
      "text/plain": [
       "True"
      ]
     },
     "execution_count": 23,
     "metadata": {},
     "output_type": "execute_result"
    }
   ],
   "source": [
    "import nltk\n",
    "nltk.download('punkt')\n",
    "nltk.download('stopwords')\n"
   ]
  },
  {
   "cell_type": "code",
   "execution_count": 24,
   "metadata": {},
   "outputs": [
    {
     "name": "stdout",
     "output_type": "stream",
     "text": [
      "['denegar', 'servicio']\n",
      "Acción encontrada: Denegación de Servicio\n",
      "Descripción: Iniciar una acción que limite o bloquee el acceso de un usuario a la red\n"
     ]
    }
   ],
   "source": [
    "# Diccionario de acciones\n",
    "network_dictionary = {\n",
    "    \"Configuración de Red\": \"Iniciar la configuración de la red\",\n",
    "    \"Modificar Parámetros\": \"Ajustar configuraciones específicas de la red\",\n",
    "    \"Materializar Intenciones\": \"Llevar a cabo acciones planificadas en la configuración de la red\",\n",
    "    \"hacer ping de usuario\": \"Verificar la conectividad entre tu dispositivo y otro usuario en la red\",\n",
    "    \"Denegación de Servicio\": \"Iniciar una acción que limite o bloquee el acceso de un usuario a la red\",\n",
    "    \"Usuario Avanzado\": \"Identificar la categoría de usuario con permisos especiales para acciones avanzadas\",\n",
    "    \"Seguridad de la Red\": \"Abordar situaciones de seguridad en la red\",\n",
    "    \"Análisis de la Red\": \"Solicitar reportes e información sobre el estado y funcionamiento de la red\",\n",
    "    \"Reporte de Estado\": \"Obtener información detallada sobre el estado actual de la red\",\n",
    "    \"Ejecutar Acción\": \"Llevar a cabo una acción específica en la red\",\n",
    "    \"Configuración LAN\": \"Realizar ajustes específicos en la red LAN\",\n",
    "    \"Dirección IP\": \"Trabajar con direcciones IP en la configuración de la red\",\n",
    "    \"Máscara de Subred\": \"Definir cómo se dividen las direcciones IP en la red\",\n",
    "    \"Puerta de Enlace\": \"Especificar la puerta de enlace predeterminada de la red\",\n",
    "    \"Interrumpir Servicio\": \"Iniciar la acción de denegación de servicio\",\n",
    "    \"Red Funcionando Correctamente\": \"Confirmar que la red está en buen estado\",\n",
    "}\n",
    "\n",
    "# Función para realizar un ping entre usuarios\n",
    "def ping_users(user1, user2, network, devices):\n",
    "    if user1 in devices and user2 in devices:\n",
    "        device1 = devices[user1]\n",
    "        device2 = devices[user2]\n",
    "\n",
    "        # Realizar el ping\n",
    "        device1.ping(device2)\n",
    "\n",
    "        # Simular la recepción del ping en el dispositivo de destino\n",
    "        device2.receive_ping(device1)\n",
    "    else:\n",
    "        print(f\"Dispositivo no encontrado: {user1} o {user2}\")\n",
    "\n",
    "\n",
    "# Frase de entrada del usuario\n",
    "frase_usuario = input(\"Por favor, ingresa una frase: \")\n",
    "\n",
    "# Tokenización\n",
    "tokens = word_tokenize(frase_usuario)\n",
    "\n",
    "# Conversión a minúsculas\n",
    "tokens = [token.lower() for token in tokens]\n",
    "\n",
    "# Eliminación de palabras de detención (stop words)\n",
    "stop_words = set(stopwords.words('spanish'))\n",
    "filtered_tokens = [token for token in tokens if token not in stop_words]\n",
    "print(filtered_tokens)\n",
    "\n",
    "# Unimos los tokens para buscar en el diccionario\n",
    "input_text = ' '.join(filtered_tokens)\n",
    "\n",
    "# Verificar si el texto de entrada contiene \"ping usuario\" o \"ping usuarios\"\n",
    "if \"ping usuario\" in input_text or \"ping usuarios\" in input_text or \"ping\" in input_text:\n",
    "    print(f\"Acción encontrada: hacer ping de usuario\\nDescripción: {network_dictionary['hacer ping de usuario']}\")\n",
    "    user1 = input(\"Primer usuario (origen): \")\n",
    "    user2 = input(\"Segundo usuario (Destino): \")\n",
    "    ping_users(user1, user2, network, devices)\n",
    "\n",
    "\n",
    "else:\n",
    "    matches = get_close_matches(input_text, network_dictionary.keys(), n=1)\n",
    "    if matches:\n",
    "        accion_encontrada = matches[0]\n",
    "        print(f\"Acción encontrada: {accion_encontrada}\\nDescripción: {network_dictionary[accion_encontrada]}\")\n",
    "        # Puedes agregar cualquier lógica adicional que necesites aquí\n",
    "    else:\n",
    "        print(\"No se encontró una acción relacionada en el diccionario.\")\n",
    "    pass"
   ]
  },
  {
   "cell_type": "code",
   "execution_count": 25,
   "metadata": {},
   "outputs": [],
   "source": [
    "# Función para verificar el estado de un dispositivo\n",
    "def check_device_status(device_name, devices):\n",
    "    if device_name in devices:\n",
    "        status = \"activo\" if devices[device_name].active else \"inactivo\"\n",
    "        print(f\"El dispositivo {device_name} está actualmente {status}.\")\n",
    "    else:\n",
    "        print(\"Dispositivo no encontrado.\")\n",
    "\n",
    "# Procesamiento de entrada del usuario\n",
    "frase_usuario = input(\"Por favor, ingresa una frase: \")\n",
    "tokens = word_tokenize(frase_usuario.lower())\n",
    "stop_words = set(stopwords.words('spanish'))\n",
    "filtered_tokens = [token for token in tokens if token not in stop_words]\n",
    "input_text = ' '.join(filtered_tokens)\n",
    "\n",
    "\n",
    "\n",
    "# Interpretación de la solicitud para modificar el servicio\n",
    "if \"denegar servicio\" in input_text:\n",
    "    target_device_name = input(\"Ingresa el nombre del dispositivo al que quieres denegar el servicio: \")\n",
    "    if target_device_name in devices and devices[target_device_name].active:\n",
    "        devices[target_device_name].toggle_active()\n",
    "        check_device_status(target_device_name, devices)\n",
    "    else:\n",
    "        print(\"Dispositivo no encontrado o ya inactivo.\")\n",
    "elif \"activar servicio\" in input_text:\n",
    "    target_device_name = input(\"Ingresa el nombre del dispositivo al que quieres activar el servicio: \")\n",
    "    if target_device_name in devices and not devices[target_device_name].active:\n",
    "        devices[target_device_name].toggle_active()\n",
    "        check_device_status(target_device_name, devices)\n",
    "    else:\n",
    "        check_device_status(target_device_name, devices)\n",
    "elif \"status dispositivo\" in input_text:\n",
    "    target_device_name = input(\"Ingresa el nombre del dispositivo para verificar su estado: \")\n",
    "    if target_device_name in devices:\n",
    "        status = \"activo\" if devices[target_device_name].active else \"inactivo\"\n",
    "        print(f\"El dispositivo {target_device_name} está actualmente {status}.\")\n",
    "    else:\n",
    "        print(\"Dispositivo no encontrado.\")\n",
    "\n"
   ]
  },
  {
   "cell_type": "code",
   "execution_count": 26,
   "metadata": {},
   "outputs": [
    {
     "name": "stdout",
     "output_type": "stream",
     "text": [
      "PC1 is pinging PC2\n",
      "Routing packet from PC1 to PC2: ping\n",
      "PC2 received a ping from PC1\n"
     ]
    }
   ],
   "source": [
    "pc1.ping(pc2)"
   ]
  },
  {
   "cell_type": "markdown",
   "metadata": {},
   "source": [
    "## Creacion de vlan's"
   ]
  },
  {
   "cell_type": "code",
   "execution_count": 15,
   "metadata": {},
   "outputs": [
    {
     "name": "stdout",
     "output_type": "stream",
     "text": [
      "VLAN 1 ('vlan1') creada exitosamente.\n",
      "Dispositivo PC1 añadido a VLAN 1.\n",
      "Dispositivo PC2 añadido a VLAN 1.\n",
      "Dispositivo PC3 añadido a VLAN 1.\n",
      "VLAN ID: 1, Nombre: vlan1, Dispositivos: PC1, PC2, PC3\n"
     ]
    }
   ],
   "source": [
    "class Firewall(Device):\n",
    "    def __init__(self, ip_address, subnet_mask, name):\n",
    "        super().__init__(ip_address, subnet_mask, name)\n",
    "        self.vlans = {}  # Diccionario para almacenar VLANs\n",
    "\n",
    "    def create_vlan(self, vlan_id, name):\n",
    "        if vlan_id not in self.vlans:\n",
    "            self.vlans[vlan_id] = {'name': name, 'devices': []}\n",
    "            print(f\"VLAN {vlan_id} ('{name}') creada exitosamente.\")\n",
    "        else:\n",
    "            print(f\"VLAN {vlan_id} ya existe.\")\n",
    "\n",
    "    def delete_vlan(self, vlan_id):\n",
    "        if vlan_id in self.vlans:\n",
    "            del self.vlans[vlan_id]\n",
    "            print(f\"VLAN {vlan_id} eliminada exitosamente.\")\n",
    "        else:\n",
    "            print(f\"VLAN {vlan_id} no existe.\")\n",
    "\n",
    "    def add_device_to_vlan(self, vlan_id, device):\n",
    "        if vlan_id in self.vlans and device not in self.vlans[vlan_id]['devices']:\n",
    "            self.vlans[vlan_id]['devices'].append(device)\n",
    "            print(f\"Dispositivo {device.name} añadido a VLAN {vlan_id}.\")\n",
    "        else:\n",
    "            print(f\"Error al añadir el dispositivo a la VLAN {vlan_id}.\")\n",
    "\n",
    "    def show_vlans(self):\n",
    "        for vlan_id, vlan_info in self.vlans.items():\n",
    "            device_names = [device.name for device in vlan_info['devices']]\n",
    "            print(f\"VLAN ID: {vlan_id}, Nombre: {vlan_info['name']}, Dispositivos: {', '.join(device_names)}\")\n",
    "\n",
    "    def interactive_create_vlan(self):\n",
    "            vlan_id = input(\"Ingresa el ID de la VLAN a crear: \")\n",
    "            name = input(\"Ingresa el nombre de la VLAN: \")\n",
    "        \n",
    "            # Convertir vlan_id a entero si es necesario\n",
    "            try:\n",
    "                vlan_id = int(vlan_id)\n",
    "            except ValueError:\n",
    "                print(\"ID de VLAN inválido. Debe ser un número.\")\n",
    "                return\n",
    "\n",
    "            self.create_vlan(vlan_id, name)\n",
    "\n",
    "            while True:\n",
    "                device_name = input(\"Añadir dispositivo a esta VLAN (deja en blanco para terminar): \")\n",
    "                if device_name == \"\":\n",
    "                    break\n",
    "                if device_name in devices:  # Asegúrate de que 'devices' esté definido y accesible\n",
    "                    self.add_device_to_vlan(vlan_id, devices[device_name])\n",
    "                else:\n",
    "                    print(f\"Dispositivo '{device_name}' no encontrado.\")\n",
    "\n",
    "# Ejemplo de uso interactivo\n",
    "firewall = Firewall(\"192.168.0.2\", \"255.255.255.0\", \"Firewall\")\n",
    "\n",
    "# Suponiendo que se ejecuta un comando como 'crear vlan'\n",
    "command = input(\"Ingresa un comando: \")\n",
    "if command == \"crear vlan\":\n",
    "    firewall.interactive_create_vlan()\n",
    "    firewall.show_vlans()"
   ]
  }
 ],
 "metadata": {
  "kernelspec": {
   "display_name": "base",
   "language": "python",
   "name": "python3"
  },
  "language_info": {
   "codemirror_mode": {
    "name": "ipython",
    "version": 3
   },
   "file_extension": ".py",
   "mimetype": "text/x-python",
   "name": "python",
   "nbconvert_exporter": "python",
   "pygments_lexer": "ipython3",
   "version": "3.11.5"
  }
 },
 "nbformat": 4,
 "nbformat_minor": 2
}
