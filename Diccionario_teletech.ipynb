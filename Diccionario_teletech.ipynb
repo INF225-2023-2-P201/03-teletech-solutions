{
 "cells": [
  {
   "cell_type": "code",
   "execution_count": 1,
   "metadata": {},
   "outputs": [],
   "source": [
    "network_dictionary = {\n",
    "    \"Configuración de Red\": \"Iniciar la configuración de la red\",\n",
    "    \"Modificar Parámetros\": \"Ajustar configuraciones específicas de la red\",\n",
    "    \"Materializar Intenciones\": \"Llevar a cabo acciones planificadas en la configuración de la red\",\n",
    "    \"Ping a Usuario\": \"Verificar la conectividad entre tu dispositivo y otro usuario en la red\",\n",
    "    \"Denegación de Servicio\": \"Iniciar una acción que limite o bloquee el acceso de un usuario a la red\",\n",
    "    \"Usuario Avanzado\": \"Identificar la categoría de usuario con permisos especiales para acciones avanzadas\",\n",
    "    \"Seguridad de la Red\": \"Abordar situaciones de seguridad en la red\",\n",
    "    \"Análisis de la Red\": \"Solicitar reportes e información sobre el estado y funcionamiento de la red\",\n",
    "    \"Reporte de Estado\": \"Obtener información detallada sobre el estado actual de la red\",\n",
    "    \"Ejecutar Acción\": \"Llevar a cabo una acción específica en la red\",\n",
    "    \"Configuración LAN\": \"Realizar ajustes específicos en la red LAN\",\n",
    "    \"Dirección IP\": \"Trabajar con direcciones IP en la configuración de la red\",\n",
    "    \"Máscara de Subred\": \"Definir cómo se dividen las direcciones IP en la red\",\n",
    "    \"Puerta de Enlace\": \"Especificar la puerta de enlace predeterminada de la red\",\n",
    "    \"Interrumpir Servicio\": \"Iniciar la acción de denegación de servicio\",\n",
    "    \"Red Funcionando Correctamente\": \"Confirmar que la red está en buen estado\"\n",
    "}"
   ]
  },
  {
   "cell_type": "code",
   "execution_count": 4,
   "metadata": {},
   "outputs": [
    {
     "name": "stdout",
     "output_type": "stream",
     "text": [
      "Palabra clave: Denegación de Servicio\n",
      "Acción: Iniciar una acción que limite o bloquee el acceso de un usuario a la red\n"
     ]
    }
   ],
   "source": [
    "# Solicitar al usuario que ingrese una palabra clave\n",
    "palabra_clave = input(\"Por favor, ingresa una palabra clave: \")\n",
    "\n",
    "# Verificar si la palabra clave existe en el diccionario\n",
    "if palabra_clave in network_dictionary:\n",
    "    accion = network_dictionary[palabra_clave]\n",
    "    print(f\"Palabra clave: {palabra_clave}\\nAcción: {accion}\")\n",
    "else:\n",
    "    print(\"La palabra clave no se encuentra en el diccionario.\")"
   ]
  }
 ],
 "metadata": {
  "kernelspec": {
   "display_name": "Python 3",
   "language": "python",
   "name": "python3"
  },
  "language_info": {
   "codemirror_mode": {
    "name": "ipython",
    "version": 3
   },
   "file_extension": ".py",
   "mimetype": "text/x-python",
   "name": "python",
   "nbconvert_exporter": "python",
   "pygments_lexer": "ipython3",
   "version": "3.11.6"
  },
  "orig_nbformat": 4
 },
 "nbformat": 4,
 "nbformat_minor": 2
}
